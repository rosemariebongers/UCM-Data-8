{
 "cells": [
  {
   "cell_type": "code",
   "execution_count": null,
   "id": "5980d522-1ba5-4410-8c00-b6cbdfbe3096",
   "metadata": {},
   "outputs": [],
   "source": [
    "from datascience import *\n",
    "import numpy as np\n",
    "\n",
    "%matplotlib inline\n",
    "import matplotlib.pyplot as plots\n",
    "plots.style.use('fivethirtyeight')\n",
    "import warnings\n",
    "warnings.simplefilter(action='ignore',category=np.VisibleDeprecationWarning)"
   ]
  },
  {
   "cell_type": "markdown",
   "id": "a2d6f1da-cd0d-4bc1-8d68-2905efc16afd",
   "metadata": {},
   "source": [
    "## Part 1: Flight data: different sampling regimes ##"
   ]
  },
  {
   "cell_type": "code",
   "execution_count": null,
   "id": "2c99ae1e-598e-4683-9dd4-8787ef0cb9dc",
   "metadata": {},
   "outputs": [],
   "source": [
    "united = Table.read_table('united.csv')\n",
    "united = united.with_column('Row', np.arange(united.num_rows)).move_to_start('Row')\n",
    "united"
   ]
  },
  {
   "cell_type": "code",
   "execution_count": null,
   "id": "79275ed8-06d3-42cd-9940-3f4e9a21eaac",
   "metadata": {},
   "outputs": [],
   "source": [
    "# A deterministic sample\n",
    "united.where('Destination', 'HNL')"
   ]
  },
  {
   "cell_type": "code",
   "execution_count": null,
   "id": "284a2c66-590d-4867-a8a5-5dc1abbd8c8a",
   "metadata": {},
   "outputs": [],
   "source": [
    "# Another deterministic sample:\n",
    "united.take(np.arange(42, united.num_rows, 100))"
   ]
  },
  {
   "cell_type": "code",
   "execution_count": null,
   "id": "fc53e9d9-2c63-4218-8e21-a45b4d89b3f0",
   "metadata": {},
   "outputs": [],
   "source": [
    "# A third deterministic sample:\n",
    "united.take(make_array(15, 30, 35))"
   ]
  },
  {
   "cell_type": "code",
   "execution_count": null,
   "id": "bfbf35e5-37d7-4d4f-90af-03f8cd8a377e",
   "metadata": {},
   "outputs": [],
   "source": [
    "# A random sample: unpack what this code does!\n",
    "start = np.random.choice(np.arange(100))\n",
    "systematic_sample = united.take(np.arange(start, united.num_rows, 100))\n",
    "systematic_sample"
   ]
  },
  {
   "cell_type": "markdown",
   "id": "c9869658-212c-4846-afeb-7f00ccd1d0c0",
   "metadata": {},
   "source": [
    "## Part 2: Your work ##\n",
    "\n",
    "* What is the longest flight delay in the table?\n",
    "* What is the average flight delay?\n",
    "* If you choose 100 random flights using united.sample(100), what is the average delay for those flights?\n",
    "* Which city has the highest average delay? The lowest?\n",
    "* Make a histogram of the delays."
   ]
  },
  {
   "cell_type": "code",
   "execution_count": null,
   "id": "6e1848ec-edaa-446e-b3db-319a147f15c4",
   "metadata": {},
   "outputs": [],
   "source": [
    "# Happy coding!"
   ]
  }
 ],
 "metadata": {
  "kernelspec": {
   "display_name": "Python 3 (ipykernel)",
   "language": "python",
   "name": "python3"
  },
  "language_info": {
   "codemirror_mode": {
    "name": "ipython",
    "version": 3
   },
   "file_extension": ".py",
   "mimetype": "text/x-python",
   "name": "python",
   "nbconvert_exporter": "python",
   "pygments_lexer": "ipython3",
   "version": "3.11.9"
  }
 },
 "nbformat": 4,
 "nbformat_minor": 5
}
