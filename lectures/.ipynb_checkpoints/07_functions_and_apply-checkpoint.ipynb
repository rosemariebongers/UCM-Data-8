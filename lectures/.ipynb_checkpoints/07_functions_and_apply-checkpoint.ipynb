{
 "cells": [
  {
   "attachments": {},
   "cell_type": "markdown",
   "id": "cell-lec09-0",
   "metadata": {},
   "source": [
    "# Lecture 9: Functions #"
   ]
  },
  {
   "cell_type": "code",
   "execution_count": null,
   "id": "cell-lec09-1",
   "metadata": {},
   "outputs": [],
   "source": [
    "from datascience import *\n",
    "import numpy as np\n",
    "\n",
    "%matplotlib inline\n",
    "import matplotlib.pyplot as plots\n",
    "plots.style.use('fivethirtyeight')"
   ]
  },
  {
   "attachments": {},
   "cell_type": "markdown",
   "id": "cell-lec09-2",
   "metadata": {},
   "source": [
    "## Histogram Example"
   ]
  },
  {
   "cell_type": "code",
   "execution_count": null,
   "id": "cell-lec09-3",
   "metadata": {},
   "outputs": [],
   "source": [
    "# From https://womenintheworld.org/highest-paid-actress/\n",
    "incomes = Table.read_table('2022_female_actors.csv')\n",
    "incomes.show(3)"
   ]
  },
  {
   "cell_type": "code",
   "execution_count": null,
   "id": "cell-lec09-4",
   "metadata": {},
   "outputs": [],
   "source": [
    "my_bins = make_array(0, 25, 30, 60)\n",
    "incomes.hist('Income (millions)', bins=my_bins)"
   ]
  },
  {
   "attachments": {},
   "cell_type": "markdown",
   "id": "cell-lec09-9",
   "metadata": {},
   "source": [
    "## Defining Functions ##  "
   ]
  },
  {
   "attachments": {},
   "cell_type": "markdown",
   "id": "cell-lec09-10",
   "metadata": {},
   "source": [
    "Example: Create a function that takes a numerical input and triples it: $\\textsf{triple}(x)=3\\,x$"
   ]
  },
  {
   "cell_type": "code",
   "execution_count": null,
   "id": "cell-lec09-11",
   "metadata": {},
   "outputs": [],
   "source": [
    "def triple(x):\n",
    "    ..."
   ]
  },
  {
   "cell_type": "code",
   "execution_count": null,
   "id": "cell-lec09-12",
   "metadata": {},
   "outputs": [],
   "source": [
    "triple(3)"
   ]
  },
  {
   "attachments": {},
   "cell_type": "markdown",
   "id": "cell-lec09-13",
   "metadata": {},
   "source": [
    "We can also assign a value to a name, and call the function on the name:"
   ]
  },
  {
   "cell_type": "code",
   "execution_count": null,
   "id": "cell-lec09-14",
   "metadata": {},
   "outputs": [],
   "source": [
    "num = 4"
   ]
  },
  {
   "cell_type": "code",
   "execution_count": null,
   "id": "cell-lec09-15",
   "metadata": {},
   "outputs": [],
   "source": [
    "triple(num)"
   ]
  },
  {
   "cell_type": "code",
   "execution_count": null,
   "id": "cell-lec09-16",
   "metadata": {},
   "outputs": [],
   "source": [
    "triple(num * 5)"
   ]
  },
  {
   "attachments": {},
   "cell_type": "markdown",
   "id": "cell-lec09-17",
   "metadata": {},
   "source": [
    "## The Anatomy of a Function ##  \n",
    "    \n",
    "```python\n",
    "def functionname(Arguments_Parameters_Expressions_or_Values):     \n",
    "      return return_expression\n",
    "```"
   ]
  },
  {
   "attachments": {},
   "cell_type": "markdown",
   "id": "cell-lec09-18",
   "metadata": {},
   "source": [
    "## Functions are Type-Agnostic  ## "
   ]
  },
  {
   "cell_type": "code",
   "execution_count": null,
   "id": "cell-lec09-19",
   "metadata": {
    "scrolled": true
   },
   "outputs": [],
   "source": [
    "triple('ha')"
   ]
  },
  {
   "cell_type": "code",
   "execution_count": null,
   "id": "cell-lec09-20",
   "metadata": {},
   "outputs": [],
   "source": [
    "np.arange(4)"
   ]
  },
  {
   "attachments": {},
   "cell_type": "markdown",
   "id": "cell-lec09-21",
   "metadata": {},
   "source": [
    "Feed the array above into our function `triple` to see what is produced:"
   ]
  },
  {
   "cell_type": "code",
   "execution_count": null,
   "id": "cell-lec09-22",
   "metadata": {},
   "outputs": [],
   "source": [
    "triple(np.arange(4))"
   ]
  },
  {
   "attachments": {},
   "cell_type": "markdown",
   "id": "cell-lec09-23",
   "metadata": {},
   "source": [
    "### Discussion ###\n",
    "\n",
    "- What does the following function do?\n",
    "- What type of input does it take?\n",
    "- What type of output does it produce?\n",
    "- What's a good name for the function?\n",
    "\n",
    "```python\n",
    "def f(s):     \n",
    "      return np.round(s / sum(s) * 100, 2)\n",
    "```"
   ]
  },
  {
   "cell_type": "code",
   "execution_count": null,
   "id": "cell-lec09-24",
   "metadata": {},
   "outputs": [],
   "source": [
    "def percent_of_total(s):\n",
    "    ..."
   ]
  },
  {
   "cell_type": "code",
   "execution_count": null,
   "id": "cell-lec09-25",
   "metadata": {},
   "outputs": [],
   "source": [
    "first_four=make_array(1,2,3,4)\n",
    "first_four"
   ]
  },
  {
   "cell_type": "code",
   "execution_count": null,
   "id": "cell-lec09-26",
   "metadata": {},
   "outputs": [],
   "source": [
    "percent_of_total(first_four)"
   ]
  },
  {
   "cell_type": "code",
   "execution_count": null,
   "id": "cell-lec09-27",
   "metadata": {},
   "outputs": [],
   "source": [
    "percent_of_total(make_array(1, 213, 38))"
   ]
  },
  {
   "attachments": {},
   "cell_type": "markdown",
   "id": "cell-lec09-28",
   "metadata": {},
   "source": [
    "### Functions Can Take Multiple Arguments ###"
   ]
  },
  {
   "attachments": {},
   "cell_type": "markdown",
   "id": "cell-lec09-29",
   "metadata": {},
   "source": [
    "Example: Calculate the Hypotenuse Length of a Right Triangle\n",
    "\n",
    "\n",
    "Pythagoras's Theorem: If $x$ and $y$ denote the lengths of the right-angle sides, then the hypotenuse length $h$ satisfies:\n",
    "\n",
    "$$ h^2 = x^2 + y^2 \\qquad \\text{which implies}\\qquad \\hspace{20 pt} h = \\sqrt{ x^2 + y^2 } $$"
   ]
  },
  {
   "cell_type": "code",
   "execution_count": null,
   "id": "cell-lec09-30",
   "metadata": {},
   "outputs": [],
   "source": [
    "def hypotenuse(x, y):\n",
    "    hypot_squared = (x ** 2 + y ** 2)\n",
    "    hypot = hypot_squared ** 0.5\n",
    "    return hypot"
   ]
  },
  {
   "cell_type": "code",
   "execution_count": null,
   "id": "cell-lec09-31",
   "metadata": {},
   "outputs": [],
   "source": [
    "hypotenuse(1, 2)"
   ]
  },
  {
   "cell_type": "code",
   "execution_count": null,
   "id": "cell-lec09-32",
   "metadata": {},
   "outputs": [],
   "source": [
    "hypotenuse(3, 4)"
   ]
  },
  {
   "attachments": {},
   "cell_type": "markdown",
   "id": "cell-lec09-33",
   "metadata": {},
   "source": [
    "We could've typed the body all in one line. Do you find this more readable or less readable than the original version?"
   ]
  },
  {
   "cell_type": "code",
   "execution_count": null,
   "id": "cell-lec09-34",
   "metadata": {},
   "outputs": [],
   "source": [
    "def hypotenuse_short(x,y):\n",
    "    return (x ** 2 + y ** 2)**0.5"
   ]
  },
  {
   "cell_type": "code",
   "execution_count": null,
   "id": "cell-lec09-35",
   "metadata": {},
   "outputs": [],
   "source": [
    "hypotenuse_short(9, 12)"
   ]
  },
  {
   "attachments": {},
   "cell_type": "markdown",
   "id": "cell-lec09-36",
   "metadata": {},
   "source": [
    "### Example: A function that takes the year of birth of a person and produces their age in years. ###"
   ]
  },
  {
   "cell_type": "code",
   "execution_count": null,
   "id": "cell-lec09-37",
   "metadata": {},
   "outputs": [],
   "source": [
    "def age(year):\n",
    "    \"\"\" A docstring goes here! \"\"\"\n",
    "    ..."
   ]
  },
  {
   "cell_type": "code",
   "execution_count": null,
   "id": "cell-lec09-38",
   "metadata": {},
   "outputs": [],
   "source": [
    "age?\n",
    "age(1992)"
   ]
  },
  {
   "attachments": {},
   "cell_type": "markdown",
   "id": "cell-lec09-39",
   "metadata": {},
   "source": [
    "Now add some bells and whistles:  Take person's name and year of birth (two arguments). Produce a sentence that states how old they are."
   ]
  },
  {
   "cell_type": "code",
   "execution_count": null,
   "id": "cell-lec09-40",
   "metadata": {},
   "outputs": [],
   "source": [
    "def name_and_age(name, year):\n",
    "    ..."
   ]
  },
  {
   "cell_type": "code",
   "execution_count": null,
   "id": "cell-lec09-41",
   "metadata": {},
   "outputs": [],
   "source": [
    "name_and_age('Joe', 1942)"
   ]
  },
  {
   "attachments": {},
   "cell_type": "markdown",
   "id": "cell-lec09-42",
   "metadata": {},
   "source": [
    "## Apply ##"
   ]
  },
  {
   "cell_type": "code",
   "execution_count": null,
   "id": "cell-lec09-43",
   "metadata": {
    "scrolled": true
   },
   "outputs": [],
   "source": [
    "people = Table().with_columns(\n",
    "    'Person', make_array('Jim', 'Pam', 'Michael', 'Creed'),\n",
    "    'Birth Year', make_array(1985, 1988, 1967, 1904)\n",
    ")\n",
    "people"
   ]
  },
  {
   "cell_type": "code",
   "execution_count": null,
   "id": "cell-lec09-45",
   "metadata": {},
   "outputs": [],
   "source": [
    "# Add a column to the array which includes their ages\n",
    "ages = make_array(age(people.column('Birth Year').item(0)),\n",
    "           age(people.column('Birth Year').item(1)),\n",
    "           age(people.column('Birth Year').item(2)),\n",
    "           age(people.column('Birth Year').item(3)))\n",
    "people_with_ages = people.with_columns('Age', people_ages)\n",
    "people_with_ages"
   ]
  },
  {
   "cell_type": "code",
   "execution_count": null,
   "id": "cell-lec09-46",
   "metadata": {
    "scrolled": true
   },
   "outputs": [],
   "source": [
    "# Is there an easier way to do this?\n",
    "# Hint: use Table.apply."
   ]
  }
 ],
 "metadata": {
  "anaconda-cloud": {},
  "kernelspec": {
   "display_name": "Python 3 (ipykernel)",
   "language": "python",
   "name": "python3"
  },
  "language_info": {
   "codemirror_mode": {
    "name": "ipython",
    "version": 3
   },
   "file_extension": ".py",
   "mimetype": "text/x-python",
   "name": "python",
   "nbconvert_exporter": "python",
   "pygments_lexer": "ipython3",
   "version": "3.11.9"
  }
 },
 "nbformat": 4,
 "nbformat_minor": 5
}
