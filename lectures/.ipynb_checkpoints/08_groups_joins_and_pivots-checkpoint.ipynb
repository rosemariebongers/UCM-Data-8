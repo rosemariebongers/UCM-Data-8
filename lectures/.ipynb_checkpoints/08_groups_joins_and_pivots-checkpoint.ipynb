{
 "cells": [
  {
   "attachments": {},
   "cell_type": "markdown",
   "id": "cell-lec09-0",
   "metadata": {},
   "source": [
    "# Groups, joins, and pivots #"
   ]
  },
  {
   "cell_type": "code",
   "execution_count": null,
   "id": "cell-lec09-1",
   "metadata": {},
   "outputs": [],
   "source": [
    "from datascience import *\n",
    "import numpy as np\n",
    "\n",
    "%matplotlib inline\n",
    "import matplotlib.pyplot as plots\n",
    "plots.style.use('fivethirtyeight')"
   ]
  },
  {
   "attachments": {},
   "cell_type": "markdown",
   "id": "cell-lec09-2",
   "metadata": {},
   "source": [
    "## Classifying movies ##"
   ]
  },
  {
   "cell_type": "code",
   "execution_count": null,
   "id": "cell-lec09-3",
   "metadata": {},
   "outputs": [],
   "source": [
    "top_movies = Table.read_table('top_movies_2017.csv')\n",
    "top_movies"
   ]
  },
  {
   "cell_type": "code",
   "execution_count": null,
   "id": "cell-lec09-4",
   "metadata": {},
   "outputs": [],
   "source": [
    "top_movies.group('Studio')"
   ]
  },
  {
   "cell_type": "code",
   "execution_count": null,
   "id": "1f98359a-8ede-4a73-b186-505f311a4241",
   "metadata": {},
   "outputs": [],
   "source": [
    "# The following code finds the gross revenue in total\n",
    "# over all movies released by a studio. Unpack this code \n",
    "# and understand it before moving on to the next part!\n",
    "\n",
    "top_movies.select('Studio', 'Gross').group('Studio', collect=sum)"
   ]
  },
  {
   "cell_type": "code",
   "execution_count": null,
   "id": "d3da84ba-ba3a-4c56-9d50-16c5c419ae1b",
   "metadata": {},
   "outputs": [],
   "source": [
    "# Exercise: \n",
    "# 1) Group the movies by year released.\n",
    "# 2) Make a scatter plot of the counts by year. \n",
    "#    What trends do you notice?\n",
    "# 3) Make a scatter plot of the counts but only for movies\n",
    "#    released after 1990. What trends do you notice?"
   ]
  },
  {
   "cell_type": "code",
   "execution_count": null,
   "id": "f2e74371-aaae-485d-ab32-f85d7aec5c3c",
   "metadata": {},
   "outputs": [],
   "source": [
    "# More challenging: We're going to make a scatter chart \n",
    "# of the adjusted gross for the TOP movie released in each year.\n",
    "\n",
    "# Make a table which ONLY has columns for year and adjusted gross.\n",
    "small_table = ...\n",
    "\n",
    "# Make a table which groups things by year and uses COLLECT\n",
    "# to find the highest grossing movie that year.\n",
    "highest_grossing_by_year = ...\n",
    "\n",
    "# Make a scatter plot!\n"
   ]
  },
  {
   "attachments": {},
   "cell_type": "markdown",
   "id": "cell-lec09-9",
   "metadata": {},
   "source": [
    "## Returning to the NBA data ##"
   ]
  },
  {
   "cell_type": "code",
   "execution_count": null,
   "id": "a7502de9-ef05-4ec8-814d-aa0434240414",
   "metadata": {},
   "outputs": [],
   "source": [
    "nba = Table.read_table('nba_salaries.csv')\n",
    "nba.where('season', 2000).select('team', 'salary').group('team', sum)\n",
    "\n",
    "# Exercise: For the 2000 season, use the group function to \n",
    "# find the total salary paid by each team. Repeat this for\n",
    "# the 2020 season.\n",
    "salary_by_team_2000 = ...\n",
    "salary_by_team_2020 = ...\n",
    "\n",
    "# Join these two\n",
    "#compared_salaries = salary_by_team_2000.join('team',          salary_by_team_2020,     'team')\n",
    "#                    Match rows in here    using this col     with rows here    using this col \n",
    "\n",
    "# Add a column where we look at the ratio\n",
    "#compared_salaries = compared_salaries.with_column(\n",
    "#    'Ratio', compared_salaries.column('salary sum_2') / compared_salaries.column('salary sum'))\n",
    "\n",
    "# Drop everything but the ratio and sort the table by the ratio. \n",
    "# Which team had the highest increase in salaries? The lowest?\n",
    "sorted_by_ratio = ..."
   ]
  },
  {
   "cell_type": "markdown",
   "id": "14923e64-3ac6-452a-87f2-b0dfbff26bdc",
   "metadata": {},
   "source": [
    "## Cross-Classifying"
   ]
  },
  {
   "cell_type": "code",
   "execution_count": null,
   "id": "300c7505-3b55-456a-8a7e-23f384931d07",
   "metadata": {},
   "outputs": [],
   "source": [
    "# Load ice cream data\n",
    "cones = Table.read_table('cones.csv')\n",
    "cones"
   ]
  },
  {
   "cell_type": "code",
   "execution_count": null,
   "id": "d8601b34-026f-4cfe-8713-44b230c25251",
   "metadata": {},
   "outputs": [],
   "source": [
    "# Group the cones by flavor, color, and both:\n",
    "cones.group('Flavor').show()\n",
    "cones.group('Color').show()\n",
    "\n",
    "# Try to run this line and it goes wrong!\n",
    "# cones.group('Flavor', 'Color').show()\n",
    "\n",
    "# Use this one instead:\n",
    "cones.group(['Flavor', 'Color']).show()\n",
    "cones.group(['Color', 'Flavor']).show()"
   ]
  },
  {
   "cell_type": "code",
   "execution_count": null,
   "id": "3db72ead-dbf4-4847-ad09-aeff826127ed",
   "metadata": {},
   "outputs": [],
   "source": [
    "# We can use a pivot table to organize this data differently\n",
    "# by listing all possible combinations:\n",
    "cones.pivot('Flavor', 'Color')"
   ]
  },
  {
   "cell_type": "code",
   "execution_count": null,
   "id": "18a0f439-450d-4695-a9d4-cb774aa376cb",
   "metadata": {},
   "outputs": [],
   "source": [
    "# Suppose we want to look at price differences between the\n",
    "# categories instead. We can use VALUES and COLLECT to do this!\n",
    "# Note: you can use BOTH or NEITHER of these. Not just one!\n",
    "\n",
    "# This table collects the cheapest option in each category.\n",
    "cones.pivot('Flavor', 'Color', values='Price', collect = min).show()"
   ]
  },
  {
   "cell_type": "code",
   "execution_count": null,
   "id": "d5fbad74-8342-4dc7-9919-5f31440bd4d6",
   "metadata": {},
   "outputs": [],
   "source": [
    "# Exercise: Write a function price_spread which takes in an \n",
    "# array and returns the difference between the maximum and \n",
    "# minimum in the array.\n",
    "def price_spread(arr):\n",
    "    ...\n",
    "\n",
    "# Make a pivot table that has the spread of prices for each option:\n",
    "# cones.pivot('Flavor', 'Color', values='Price', collect = price_spread)"
   ]
  }
 ],
 "metadata": {
  "anaconda-cloud": {},
  "kernelspec": {
   "display_name": "Python 3 (ipykernel)",
   "language": "python",
   "name": "python3"
  },
  "language_info": {
   "codemirror_mode": {
    "name": "ipython",
    "version": 3
   },
   "file_extension": ".py",
   "mimetype": "text/x-python",
   "name": "python",
   "nbconvert_exporter": "python",
   "pygments_lexer": "ipython3",
   "version": "3.11.9"
  }
 },
 "nbformat": 4,
 "nbformat_minor": 5
}
