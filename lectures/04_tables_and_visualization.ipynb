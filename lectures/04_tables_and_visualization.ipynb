{
 "cells": [
  {
   "cell_type": "code",
   "execution_count": null,
   "id": "2a73f53f-0904-43f2-bd57-6ca6493d3b0c",
   "metadata": {},
   "outputs": [],
   "source": [
    "from datascience import *\n",
    "import numpy as np\n",
    "%matplotlib inline"
   ]
  },
  {
   "cell_type": "markdown",
   "id": "b0d550c3-cab7-408c-87a5-ff3cdc63c586",
   "metadata": {},
   "source": [
    "<h3> NBA Salaries </h3>"
   ]
  },
  {
   "cell_type": "code",
   "execution_count": null,
   "id": "e3e947fd-4cfc-4316-9ddb-b5e7f41183d0",
   "metadata": {},
   "outputs": [],
   "source": [
    "nba = Table.read_table('nba_salaries.csv').where('season', 2020).drop('season')\n",
    "nba.show(5)"
   ]
  },
  {
   "cell_type": "code",
   "execution_count": null,
   "id": "ce4e607f-b4b9-43a0-af0d-b2726307675d",
   "metadata": {},
   "outputs": [],
   "source": [
    "# Finding the highest average salary\n",
    "\n",
    "# First read out the names of the positions\n",
    "positions = nba.column('position')\n",
    "print(len(positions))\n",
    "\n",
    "# Since there are 528 positions, get the unique ones:\n",
    "positions = np.unique(positions)\n",
    "print(positions)\n",
    "\n",
    "# Now select the players with position 'C':\n",
    "c = nba.where('position', 'C')\n",
    "c_salaries = c.column('salary')\n",
    "print('Average salary for C: ' + str(np.average(c_salaries)))\n",
    "\n",
    "# Now print a linebreak and then use a FOR LOOP to \n",
    "# iterate over the position names; we'll learn about\n",
    "# this construction soon! I'll also use an f-string \n",
    "# to format the output really nicely along with a\n",
    "# .2f to only print to two decimal places.\n",
    "print('')\n",
    "\n",
    "for p in positions:\n",
    "    position_salaries = nba.where('position', p).column('salary')\n",
    "    print(f'Position {p} has average salary {np.average(position_salaries):.2f}')"
   ]
  },
  {
   "cell_type": "code",
   "execution_count": null,
   "id": "a4da0157-1ae8-4416-ae79-fb84d9c4157e",
   "metadata": {},
   "outputs": [],
   "source": [
    "# Write a table call here to find the lowest-paid plays on the Denver Nuggets.\n",
    "# You may want to use Table.take() and np.arange() at various points!\n",
    "lowest_paid = ..."
   ]
  },
  {
   "cell_type": "markdown",
   "id": "2d5538df-49e2-4d0f-b322-247a4c182887",
   "metadata": {},
   "source": [
    "<h3> Reading the census data </h3>"
   ]
  },
  {
   "cell_type": "code",
   "execution_count": null,
   "id": "dedca190-9667-43e6-b4b0-46dac216c0b4",
   "metadata": {},
   "outputs": [],
   "source": [
    "data = 'http://www2.census.gov/programs-surveys/popest/technical-documentation/file-layouts/2010-2019/nc-est2019-agesex-res.csv'\n",
    "full_census_table = Table.read_table(data)\n",
    "\n",
    "female = ...\n",
    "female.sort(...)\n",
    "\n",
    "male = ...\n",
    "male.sort(...)"
   ]
  },
  {
   "cell_type": "code",
   "execution_count": null,
   "id": "e1c0d5df-6803-4e4e-8c63-05f48da92237",
   "metadata": {},
   "outputs": [],
   "source": [
    "# Now let's plot this to see how the populations change over time!\n",
    "female.where('AGE').plot('AGE', 'CENSUS2010POP')"
   ]
  },
  {
   "cell_type": "code",
   "execution_count": null,
   "id": "4d9b6fe4-f2b1-4106-8f18-b658f76559de",
   "metadata": {},
   "outputs": [],
   "source": []
  },
  {
   "cell_type": "code",
   "execution_count": null,
   "id": "af822c35-4ebf-42e0-83b8-b02271830e3b",
   "metadata": {},
   "outputs": [],
   "source": [
    "# Building our first visualization!\n",
    "\n",
    "# Start by building a table that has all the relevant data:\n",
    "pop_by_sex = Table().with_columns(\n",
    "    'AGE', female.column('AGE'),\n",
    "    'FEMALE POPULATION', female.column('CENSUS2010POP'),\n",
    "    'MALE POPULATION', male.column('CENSUS2010POP')\n",
    ")\n"
   ]
  },
  {
   "cell_type": "code",
   "execution_count": null,
   "id": "4791b153-3ca2-40bf-ad1d-0deceeca6748",
   "metadata": {},
   "outputs": [],
   "source": [
    "# Exploring sex ratios\n",
    "\n",
    "# Start by building a table that has all the relevant data:\n",
    "pop_by_sex_with_ratio = Table().with_columns(\n",
    "    'AGE', female.column('AGE'),\n",
    "    'FEMALE POPULATION', female.column('CENSUS2010POP'),\n",
    "    'MALE POPULATION', male.column('CENSUS2010POP'),\n",
    "    'RATIO', female.column('CENSUS2010POP') / male.column('CENSUS2010POP')\n",
    ")"
   ]
  }
 ],
 "metadata": {
  "kernelspec": {
   "display_name": "Python 3 (ipykernel)",
   "language": "python",
   "name": "python3"
  },
  "language_info": {
   "codemirror_mode": {
    "name": "ipython",
    "version": 3
   },
   "file_extension": ".py",
   "mimetype": "text/x-python",
   "name": "python",
   "nbconvert_exporter": "python",
   "pygments_lexer": "ipython3",
   "version": "3.11.9"
  }
 },
 "nbformat": 4,
 "nbformat_minor": 5
}
