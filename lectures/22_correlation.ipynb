{
 "cells": [
  {
   "cell_type": "code",
   "execution_count": null,
   "id": "cell-lec29-0",
   "metadata": {},
   "outputs": [],
   "source": [
    "import matplotlib\n",
    "from datascience import *\n",
    "%matplotlib inline\n",
    "import matplotlib.pyplot as plots\n",
    "import numpy as np\n",
    "plots.style.use('fivethirtyeight')"
   ]
  },
  {
   "cell_type": "code",
   "execution_count": null,
   "id": "cell-lec29-1",
   "metadata": {},
   "outputs": [],
   "source": [
    "def r_scatter(r):\n",
    "    plots.figure(figsize=(5,5))\n",
    "    \"Generate a scatter plot with a correlation approximately r\"\n",
    "    x = np.random.normal(0, 1, 1000)\n",
    "    z = np.random.normal(0, 1, 1000)\n",
    "    y = r*x + (np.sqrt(1-r**2))*z\n",
    "    plots.scatter(x, y, color='darkblue', s=20)\n",
    "    plots.xlim(-4, 4)\n",
    "    plots.ylim(-4, 4)"
   ]
  },
  {
   "attachments": {},
   "cell_type": "markdown",
   "id": "cell-lec29-3",
   "metadata": {},
   "source": [
    "## Approach to Prediction"
   ]
  },
  {
   "cell_type": "code",
   "execution_count": null,
   "id": "cell-lec29-4",
   "metadata": {},
   "outputs": [],
   "source": [
    "# Note: Child heights are the **adult** heights of children in a family\n",
    "families = Table.read_table('family_heights.csv')\n",
    "families"
   ]
  },
  {
   "cell_type": "code",
   "execution_count": null,
   "id": "cell-lec29-5",
   "metadata": {},
   "outputs": [],
   "source": [
    "parent_avgs = (families.column('father') + families.column('mother'))/2"
   ]
  },
  {
   "cell_type": "code",
   "execution_count": null,
   "id": "cell-lec29-6",
   "metadata": {},
   "outputs": [],
   "source": [
    "heights = Table().with_columns(\n",
    "    'Parent Average', parent_avgs,\n",
    "    'Child', families.column('child'),\n",
    ")\n",
    "heights"
   ]
  },
  {
   "cell_type": "code",
   "execution_count": null,
   "id": "cell-lec29-7",
   "metadata": {},
   "outputs": [],
   "source": [
    "heights.scatter('Parent Average', 'Child')"
   ]
  },
  {
   "cell_type": "code",
   "execution_count": null,
   "id": "cell-lec29-8",
   "metadata": {},
   "outputs": [],
   "source": [
    "heights.scatter('Parent Average', 'Child')\n",
    "plots.plot([67.5, 67.5], [50, 85], color='red', lw=2)\n",
    "plots.plot([68.5, 68.5], [50, 85], color='red', lw=2);"
   ]
  },
  {
   "cell_type": "code",
   "execution_count": null,
   "id": "cell-lec29-9",
   "metadata": {},
   "outputs": [],
   "source": [
    "nearby = heights.where('Parent Average', are.between(67.5, 68.5))\n",
    "nearby_mean = np.average(nearby.column('Child'))\n",
    "nearby_mean"
   ]
  },
  {
   "cell_type": "code",
   "execution_count": null,
   "id": "cell-lec29-10",
   "metadata": {},
   "outputs": [],
   "source": [
    "heights.scatter('Parent Average', 'Child')\n",
    "plots.plot([67.5, 67.5], [50, 85], color='red', lw=2)\n",
    "plots.plot([68.5, 68.5], [50, 85], color='red', lw=2)\n",
    "plots.scatter(68, nearby_mean, color='red', s=50);"
   ]
  },
  {
   "cell_type": "code",
   "execution_count": null,
   "id": "cell-lec29-11",
   "metadata": {},
   "outputs": [],
   "source": [
    "def predict_child(h):\n",
    "    \"\"\"Predict the height of a child whose parents have a parent average height of p_avg.\n",
    "    \n",
    "    The prediction is the average height of the children whose parent average height is\n",
    "    in the range p_avg plus or minus 0.5.\n",
    "    \"\"\"\n",
    "    nearby = heights.where('Parent Average', are.between(h - 1/2, h + 1/2))\n",
    "    return np.average(nearby.column('Child'))"
   ]
  },
  {
   "cell_type": "code",
   "execution_count": null,
   "id": "cell-lec29-12",
   "metadata": {},
   "outputs": [],
   "source": [
    "heights_with_predictions = heights.with_columns(\n",
    "    'Prediction', heights.apply(predict_child, 'Parent Average'))"
   ]
  },
  {
   "cell_type": "code",
   "execution_count": null,
   "id": "cell-lec29-13",
   "metadata": {},
   "outputs": [],
   "source": [
    "heights_with_predictions.scatter('Parent Average')"
   ]
  },
  {
   "attachments": {},
   "cell_type": "markdown",
   "id": "cell-lec29-14",
   "metadata": {},
   "source": [
    "## Association"
   ]
  },
  {
   "cell_type": "code",
   "execution_count": null,
   "id": "cell-lec29-15",
   "metadata": {},
   "outputs": [],
   "source": [
    "hybrid = Table.read_table('hybrid.csv')"
   ]
  },
  {
   "cell_type": "code",
   "execution_count": null,
   "id": "cell-lec29-16",
   "metadata": {},
   "outputs": [],
   "source": [
    "hybrid"
   ]
  },
  {
   "cell_type": "code",
   "execution_count": null,
   "id": "cell-lec29-17",
   "metadata": {},
   "outputs": [],
   "source": [
    "hybrid.sort('msrp', descending=True)"
   ]
  },
  {
   "cell_type": "code",
   "execution_count": null,
   "id": "cell-lec29-18",
   "metadata": {},
   "outputs": [],
   "source": [
    "hybrid.scatter('mpg', 'msrp')"
   ]
  },
  {
   "cell_type": "code",
   "execution_count": null,
   "id": "cell-lec29-19",
   "metadata": {},
   "outputs": [],
   "source": [
    "hybrid.scatter('acceleration', 'msrp')"
   ]
  },
  {
   "cell_type": "code",
   "execution_count": null,
   "id": "cell-lec29-20",
   "metadata": {},
   "outputs": [],
   "source": [
    "suv = hybrid.where('class', 'SUV')\n",
    "suv.num_rows"
   ]
  },
  {
   "cell_type": "code",
   "execution_count": null,
   "id": "cell-lec29-21",
   "metadata": {},
   "outputs": [],
   "source": [
    "suv.scatter('acceleration', 'msrp')"
   ]
  },
  {
   "cell_type": "code",
   "execution_count": null,
   "id": "cell-lec29-22",
   "metadata": {},
   "outputs": [],
   "source": [
    "suv.scatter('mpg', 'msrp')"
   ]
  },
  {
   "cell_type": "code",
   "execution_count": null,
   "id": "cell-lec29-23",
   "metadata": {},
   "outputs": [],
   "source": [
    "def standard_units(x):\n",
    "    \"Convert any array of numbers to standard units.\"\n",
    "    return (x - np.average(x)) / np.std(x)"
   ]
  },
  {
   "cell_type": "code",
   "execution_count": null,
   "id": "cell-lec29-24",
   "metadata": {},
   "outputs": [],
   "source": [
    "Table().with_columns(\n",
    "    'mpg (standard units)',  standard_units(suv.column('mpg')), \n",
    "    'msrp (standard units)', standard_units(suv.column('msrp'))\n",
    ").scatter(0, 1)\n",
    "plots.xlim(-3, 3)\n",
    "plots.ylim(-3, 3);"
   ]
  },
  {
   "cell_type": "code",
   "execution_count": null,
   "id": "cell-lec29-25",
   "metadata": {},
   "outputs": [],
   "source": [
    "suv.scatter('acceleration', 'msrp')"
   ]
  },
  {
   "cell_type": "code",
   "execution_count": null,
   "id": "cell-lec29-26",
   "metadata": {},
   "outputs": [],
   "source": [
    "Table().with_columns(\n",
    "    'acceleration (standard units)', standard_units(suv.column('acceleration')), \n",
    "    'msrp (standard units)',         standard_units(suv.column('msrp'))\n",
    ").scatter(0, 1)\n",
    "plots.xlim(-3, 3)\n",
    "plots.ylim(-3, 3);"
   ]
  },
  {
   "attachments": {},
   "cell_type": "markdown",
   "id": "cell-lec29-27",
   "metadata": {},
   "source": [
    "## Correlation"
   ]
  },
  {
   "cell_type": "code",
   "execution_count": null,
   "id": "cell-lec29-28",
   "metadata": {},
   "outputs": [],
   "source": [
    "r_scatter(-0.2)"
   ]
  },
  {
   "cell_type": "code",
   "execution_count": null,
   "id": "cell-lec29-29",
   "metadata": {},
   "outputs": [],
   "source": [
    "x = np.arange(1, 7, 1)\n",
    "y = make_array(2, 3, 1, 5, 2, 7)\n",
    "t = Table().with_columns(\n",
    "        'x', x,\n",
    "        'y', y\n",
    "    )\n",
    "t"
   ]
  },
  {
   "cell_type": "code",
   "execution_count": null,
   "id": "cell-lec29-30",
   "metadata": {},
   "outputs": [],
   "source": [
    "t.scatter('x', 'y', s=30, color='red')"
   ]
  },
  {
   "cell_type": "code",
   "execution_count": null,
   "id": "cell-lec29-31",
   "metadata": {},
   "outputs": [],
   "source": [
    "t = t.with_columns(\n",
    "        'x (standard units)', standard_units(x),\n",
    "        'y (standard units)', standard_units(y)\n",
    "    )\n",
    "t"
   ]
  },
  {
   "cell_type": "code",
   "execution_count": null,
   "id": "cell-lec29-32",
   "metadata": {},
   "outputs": [],
   "source": [
    "t.scatter(2, 3, s=30, color='red')"
   ]
  },
  {
   "cell_type": "code",
   "execution_count": null,
   "id": "cell-lec29-33",
   "metadata": {},
   "outputs": [],
   "source": [
    "t = t.with_columns(\n",
    "    'product of standard units', t.column(2) * t.column(3))\n",
    "t"
   ]
  },
  {
   "cell_type": "code",
   "execution_count": null,
   "id": "cell-lec29-34",
   "metadata": {},
   "outputs": [],
   "source": [
    "# r is the average of the products of the standard units\n",
    "\n",
    "r = np.average(t.column(2) * t.column(3))\n",
    "r"
   ]
  },
  {
   "cell_type": "code",
   "execution_count": null,
   "id": "cell-lec29-35",
   "metadata": {},
   "outputs": [],
   "source": [
    "def correlation(t, x, y):\n",
    "    \"\"\"t is a table; x and y are column labels\"\"\"\n",
    "    x_in_standard_units = standard_units(t.column(x))\n",
    "    y_in_standard_units = standard_units(t.column(y))\n",
    "    return np.average(x_in_standard_units * y_in_standard_units)"
   ]
  },
  {
   "cell_type": "code",
   "execution_count": null,
   "id": "cell-lec29-36",
   "metadata": {},
   "outputs": [],
   "source": [
    "correlation(t, 'x', 'y')"
   ]
  },
  {
   "cell_type": "code",
   "execution_count": null,
   "id": "cell-lec29-37",
   "metadata": {},
   "outputs": [],
   "source": [
    "suv.scatter('mpg', 'msrp')"
   ]
  },
  {
   "cell_type": "code",
   "execution_count": null,
   "id": "cell-lec29-38",
   "metadata": {},
   "outputs": [],
   "source": [
    "correlation(suv, 'mpg', 'msrp')"
   ]
  },
  {
   "cell_type": "code",
   "execution_count": null,
   "id": "cell-lec29-39",
   "metadata": {},
   "outputs": [],
   "source": [
    "suv.scatter('acceleration', 'msrp')"
   ]
  },
  {
   "cell_type": "code",
   "execution_count": null,
   "id": "cell-lec29-40",
   "metadata": {},
   "outputs": [],
   "source": [
    "correlation(suv, 'acceleration', 'msrp')"
   ]
  },
  {
   "attachments": {},
   "cell_type": "markdown",
   "id": "cell-lec29-41",
   "metadata": {},
   "source": [
    "### Switching Axes"
   ]
  },
  {
   "cell_type": "code",
   "execution_count": null,
   "id": "cell-lec29-42",
   "metadata": {},
   "outputs": [],
   "source": [
    "correlation(t, 'x', 'y')"
   ]
  },
  {
   "cell_type": "code",
   "execution_count": null,
   "id": "cell-lec29-43",
   "metadata": {},
   "outputs": [],
   "source": [
    "t.scatter('x', 'y', s=30, color='red')"
   ]
  },
  {
   "cell_type": "code",
   "execution_count": null,
   "id": "cell-lec29-44",
   "metadata": {},
   "outputs": [],
   "source": [
    "t.scatter('y', 'x', s=30, color='red')"
   ]
  },
  {
   "cell_type": "code",
   "execution_count": null,
   "id": "cell-lec29-45",
   "metadata": {},
   "outputs": [],
   "source": [
    "correlation(t, 'y', 'x')"
   ]
  },
  {
   "attachments": {},
   "cell_type": "markdown",
   "id": "cell-lec29-46",
   "metadata": {},
   "source": [
    "### Nonlinearity"
   ]
  },
  {
   "cell_type": "code",
   "execution_count": null,
   "id": "cell-lec29-47",
   "metadata": {},
   "outputs": [],
   "source": [
    "new_x = np.arange(-4, 4.1, 0.5)\n",
    "nonlinear = Table().with_columns(\n",
    "        'x', new_x,\n",
    "        'y', new_x**2\n",
    "    )\n",
    "nonlinear.scatter('x', 'y', s=30, color='r')"
   ]
  },
  {
   "cell_type": "code",
   "execution_count": null,
   "id": "cell-lec29-48",
   "metadata": {},
   "outputs": [],
   "source": [
    "correlation(nonlinear, 'x', 'y')"
   ]
  },
  {
   "attachments": {},
   "cell_type": "markdown",
   "id": "cell-lec29-49",
   "metadata": {},
   "source": [
    "### Outliers"
   ]
  },
  {
   "cell_type": "code",
   "execution_count": null,
   "id": "cell-lec29-50",
   "metadata": {},
   "outputs": [],
   "source": [
    "line = Table().with_columns(\n",
    "        'x', make_array(1, 2, 3, 4),\n",
    "        'y', make_array(1, 2, 3, 4)\n",
    "    )\n",
    "line.scatter('x', 'y', s=30, color='r')"
   ]
  },
  {
   "cell_type": "code",
   "execution_count": null,
   "id": "cell-lec29-51",
   "metadata": {},
   "outputs": [],
   "source": [
    "correlation(line, 'x', 'y')"
   ]
  },
  {
   "cell_type": "code",
   "execution_count": null,
   "id": "cell-lec29-52",
   "metadata": {},
   "outputs": [],
   "source": [
    "outlier = Table().with_columns(\n",
    "        'x', make_array(1, 2, 3, 4, 5),\n",
    "        'y', make_array(1, 2, 3, 4, 0)\n",
    "    )\n",
    "outlier.scatter('x', 'y', s=30, color='r')"
   ]
  },
  {
   "cell_type": "code",
   "execution_count": null,
   "id": "cell-lec29-53",
   "metadata": {},
   "outputs": [],
   "source": [
    "correlation(outlier, 'x', 'y')"
   ]
  },
  {
   "attachments": {},
   "cell_type": "markdown",
   "id": "cell-lec29-54",
   "metadata": {},
   "source": [
    "### Ecological Correlations"
   ]
  },
  {
   "cell_type": "code",
   "execution_count": null,
   "id": "cell-lec29-55",
   "metadata": {},
   "outputs": [],
   "source": [
    "sat2014 = Table.read_table('sat2014.csv').sort('State')\n",
    "sat2014"
   ]
  },
  {
   "cell_type": "code",
   "execution_count": null,
   "id": "cell-lec29-56",
   "metadata": {},
   "outputs": [],
   "source": [
    "sat2014.scatter('Critical Reading', 'Math')"
   ]
  },
  {
   "cell_type": "code",
   "execution_count": null,
   "id": "cell-lec29-57",
   "metadata": {},
   "outputs": [],
   "source": [
    "correlation(sat2014, 'Critical Reading', 'Math')"
   ]
  }
 ],
 "metadata": {
  "kernelspec": {
   "display_name": "Python 3 (ipykernel)",
   "language": "python",
   "name": "python3"
  },
  "language_info": {
   "codemirror_mode": {
    "name": "ipython",
    "version": 3
   },
   "file_extension": ".py",
   "mimetype": "text/x-python",
   "name": "python",
   "nbconvert_exporter": "python",
   "pygments_lexer": "ipython3",
   "version": "3.11.9"
  }
 },
 "nbformat": 4,
 "nbformat_minor": 5
}
