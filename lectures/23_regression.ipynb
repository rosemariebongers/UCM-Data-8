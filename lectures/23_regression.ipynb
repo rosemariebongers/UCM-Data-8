{
 "cells": [
  {
   "cell_type": "code",
   "execution_count": null,
   "id": "cell-lec32-0",
   "metadata": {},
   "outputs": [],
   "source": [
    "from datascience import *\n",
    "import numpy as np\n",
    "%matplotlib inline\n",
    "import matplotlib.pyplot as plots\n",
    "plots.style.use('fivethirtyeight')"
   ]
  },
  {
   "attachments": {},
   "cell_type": "markdown",
   "id": "cell-lec32-1",
   "metadata": {},
   "source": [
    "## Setting up all the things we're going to need"
   ]
  },
  {
   "cell_type": "code",
   "execution_count": null,
   "id": "cell-lec32-2",
   "metadata": {},
   "outputs": [],
   "source": [
    "def standard_units(arr):\n",
    "    \"\"\" Converts an array to standard units \"\"\"\n",
    "    return (arr - np.average(arr))/np.std(arr)\n",
    "\n",
    "def correlation(t, x, y):\n",
    "    \"\"\" Computes correlation: t is a table, and x and y are column names \"\"\"\n",
    "    x_standard = standard_units(t.column(x))\n",
    "    y_standard = standard_units(t.column(y))\n",
    "    return np.average(x_standard * y_standard)\n",
    "\n",
    "def slope(t, x, y):\n",
    "    \"\"\" Computes the slope of the regression line, like correlation above \"\"\"\n",
    "    r = correlation(t, x, y)\n",
    "    y_sd = np.std(t.column(y))\n",
    "    x_sd = np.std(t.column(x))\n",
    "    return r * y_sd / x_sd\n",
    "\n",
    "def intercept(t, x, y):\n",
    "    \"\"\" Computes the intercept of the regression line, like slope above \"\"\"\n",
    "    x_mean = np.mean(t.column(x))\n",
    "    y_mean = np.mean(t.column(y))\n",
    "    return y_mean - slope(t, x, y)*x_mean\n",
    "\n",
    "def fitted_values(t, x, y):\n",
    "    \"\"\"Return an array of the regression estimates (predictions) at all the x values\"\"\"\n",
    "    a = slope(t, x, y)\n",
    "    b = intercept(t, x, y)\n",
    "    return a*t.column(x) + b\n",
    "\n",
    "def residuals(t, x, y):\n",
    "    predictions = fitted_values(t, x, y)\n",
    "    return t.column(y) - predictions"
   ]
  },
  {
   "attachments": {},
   "cell_type": "markdown",
   "id": "cell-lec32-3",
   "metadata": {},
   "source": [
    "## Building a prediction model"
   ]
  },
  {
   "cell_type": "code",
   "execution_count": null,
   "id": "cell-lec32-4",
   "metadata": {},
   "outputs": [],
   "source": [
    "demographics = Table.read_table('district_demographics2016.csv')\n",
    "demographics"
   ]
  },
  {
   "cell_type": "code",
   "execution_count": null,
   "id": "3380b8dd-07d0-439c-83fa-e3bdbf71925f",
   "metadata": {},
   "outputs": [],
   "source": [
    "demographics = demographics.drop(\n",
    "    'State', 'District', 'Percent voting for Clinton')\n",
    "demographics.show(5)"
   ]
  },
  {
   "cell_type": "code",
   "execution_count": null,
   "id": "cell-lec32-6",
   "metadata": {
    "scrolled": true
   },
   "outputs": [],
   "source": [
    "demographics = demographics.with_columns(\n",
    "    'Fitted Value', fitted_values(demographics, 'College%', 'Median Income'),\n",
    "    'Residual', residuals(demographics, 'College%', 'Median Income')\n",
    ")\n",
    "demographics"
   ]
  },
  {
   "cell_type": "code",
   "execution_count": null,
   "id": "cell-lec32-7",
   "metadata": {
    "scrolled": true
   },
   "outputs": [],
   "source": [
    "demographics.scatter('College%')"
   ]
  },
  {
   "cell_type": "code",
   "execution_count": null,
   "id": "cell-lec32-8",
   "metadata": {},
   "outputs": [],
   "source": [
    "def plot_residuals(t, x, y):\n",
    "    tbl = t.with_columns(\n",
    "        'Fitted', fitted_values(t, x, y),\n",
    "        'Residual', residuals(t, x, y)\n",
    "    )\n",
    "    tbl.select(x, y, 'Fitted').scatter(0)\n",
    "    tbl.scatter(x, 'Residual')"
   ]
  },
  {
   "cell_type": "code",
   "execution_count": null,
   "id": "cell-lec32-9",
   "metadata": {},
   "outputs": [],
   "source": [
    "plot_residuals(demographics, 'College%', 'Median Income')"
   ]
  },
  {
   "attachments": {},
   "cell_type": "markdown",
   "id": "cell-lec32-11",
   "metadata": {},
   "source": [
    "## Visualizing the residuals: Dugongs ##"
   ]
  },
  {
   "cell_type": "code",
   "execution_count": null,
   "id": "cell-lec32-12",
   "metadata": {
    "scrolled": true
   },
   "outputs": [],
   "source": [
    "dugong = Table.read_table('dugong.csv')\n",
    "dugong.show(5)"
   ]
  },
  {
   "cell_type": "code",
   "execution_count": null,
   "id": "cell-lec32-13",
   "metadata": {},
   "outputs": [],
   "source": [
    "dugong.scatter('Length', 'Age')"
   ]
  },
  {
   "cell_type": "code",
   "execution_count": null,
   "id": "cell-lec32-14",
   "metadata": {},
   "outputs": [],
   "source": [
    "correlation(dugong, 'Length', 'Age')"
   ]
  },
  {
   "cell_type": "code",
   "execution_count": null,
   "id": "cell-lec32-15",
   "metadata": {},
   "outputs": [],
   "source": [
    "plot_residuals(dugong, 'Length', 'Age')"
   ]
  },
  {
   "cell_type": "markdown",
   "id": "f395930a-4329-49f1-bcea-5719b8f037c8",
   "metadata": {},
   "source": [
    "## Discussion: How much of an impact do outliers have?"
   ]
  },
  {
   "attachments": {},
   "cell_type": "markdown",
   "id": "cell-lec32-16",
   "metadata": {},
   "source": [
    "# Analyzing the residuals: US Heights and Weights"
   ]
  },
  {
   "cell_type": "code",
   "execution_count": null,
   "id": "cell-lec32-17",
   "metadata": {},
   "outputs": [],
   "source": [
    "us_women = Table.read_table('us_women.csv')\n",
    "us_women.show(5)"
   ]
  },
  {
   "cell_type": "code",
   "execution_count": null,
   "id": "cell-lec32-18",
   "metadata": {},
   "outputs": [],
   "source": [
    "us_women.scatter('height')"
   ]
  },
  {
   "cell_type": "code",
   "execution_count": null,
   "id": "cell-lec32-19",
   "metadata": {},
   "outputs": [],
   "source": [
    "correlation(us_women, 'height', 'ave weight')"
   ]
  },
  {
   "cell_type": "code",
   "execution_count": null,
   "id": "cell-lec32-20",
   "metadata": {},
   "outputs": [],
   "source": [
    "plot_residuals(us_women, 'height', 'ave weight')"
   ]
  },
  {
   "cell_type": "code",
   "execution_count": null,
   "id": "55fb81ea-48c6-4f17-b56e-cad28d1d42bc",
   "metadata": {},
   "outputs": [],
   "source": []
  },
  {
   "attachments": {},
   "cell_type": "markdown",
   "id": "cell-lec32-21",
   "metadata": {},
   "source": [
    "## Discussion: Is there a more appropriate model that the data suggests?"
   ]
  }
 ],
 "metadata": {
  "anaconda-cloud": {},
  "kernelspec": {
   "display_name": "Python 3 (ipykernel)",
   "language": "python",
   "name": "python3"
  },
  "language_info": {
   "codemirror_mode": {
    "name": "ipython",
    "version": 3
   },
   "file_extension": ".py",
   "mimetype": "text/x-python",
   "name": "python",
   "nbconvert_exporter": "python",
   "pygments_lexer": "ipython3",
   "version": "3.11.9"
  }
 },
 "nbformat": 4,
 "nbformat_minor": 5
}
