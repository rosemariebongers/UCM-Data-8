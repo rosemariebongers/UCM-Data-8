{
 "cells": [
  {
   "cell_type": "code",
   "execution_count": null,
   "id": "eccb4722-8bfc-4ad1-a7c6-fa7aa4383c87",
   "metadata": {},
   "outputs": [],
   "source": [
    "from datascience import *\n",
    "%matplotlib inline\n",
    "import matplotlib.pyplot as plots\n",
    "plots.style.use('fivethirtyeight')\n",
    "import numpy as np\n",
    "import warnings\n",
    "warnings.simplefilter(action='ignore', category=np.VisibleDeprecationWarning)"
   ]
  },
  {
   "cell_type": "markdown",
   "id": "397c9c0e-0edb-4f85-892c-b5c146105c60",
   "metadata": {},
   "source": [
    "## Part 1: Means and medians ##"
   ]
  },
  {
   "cell_type": "code",
   "execution_count": null,
   "id": "3631cb60-3242-4271-8c8a-40d84588504b",
   "metadata": {},
   "outputs": [],
   "source": [
    "# Load the flight delay data\n",
    "flights = Table.read_table('united.csv')"
   ]
  },
  {
   "cell_type": "code",
   "execution_count": null,
   "id": "6d0c95ea-aa04-46e4-ace5-d6eb552d29c3",
   "metadata": {},
   "outputs": [],
   "source": [
    "# Now look at a particular day only:\n",
    "flights = flights.where('Date', '8/1/15')\n",
    "flights.hist('Delay')"
   ]
  },
  {
   "cell_type": "code",
   "execution_count": null,
   "id": "ce7a8c9d-ad05-422c-8523-98c3cf2c95b8",
   "metadata": {},
   "outputs": [],
   "source": [
    "flights.sort('Delay').show()"
   ]
  },
  {
   "cell_type": "code",
   "execution_count": null,
   "id": "17309f66-8d25-4400-a69a-a35050507b8b",
   "metadata": {},
   "outputs": [],
   "source": [
    "print('Median:  ', np.median(flights.column('Delay')))\n",
    "print('Average: ', np.average(flights.column('Delay')))"
   ]
  },
  {
   "cell_type": "code",
   "execution_count": null,
   "id": "6d0e23cb-82c9-4dde-98ff-86947b0d1f83",
   "metadata": {},
   "outputs": [],
   "source": [
    "delays = flights.column('Delay')\n",
    "\n",
    "# Now let's assume that a plane disappears for 5.5 \n",
    "# years as in the show Manifest:\n",
    "delays[-1] = 2890800\n",
    "\n",
    "print('New median:  ', np.median(delays))\n",
    "print('New average: ', np.average(delays))"
   ]
  },
  {
   "cell_type": "markdown",
   "id": "a0b34b3c-511c-4b1b-a630-c4b6f7227fb0",
   "metadata": {},
   "source": [
    "## Part 2: Standard deviations ##"
   ]
  },
  {
   "cell_type": "code",
   "execution_count": null,
   "id": "d7f211b8-c1a7-4e63-a13f-146ef3f7fae3",
   "metadata": {},
   "outputs": [],
   "source": []
  },
  {
   "cell_type": "code",
   "execution_count": null,
   "id": "e5c3e8fa-26a4-4d4b-92d7-61a258e1b815",
   "metadata": {},
   "outputs": [],
   "source": [
    "# Generate the histogram of the flight data. Start\n",
    "# by reloading the entire data table, since we \n",
    "# altered it in the last part.\n",
    "\n",
    "flights = Table.read_table('united.csv')\n",
    "flights.hist('Delay', bins = np.arange(0, 100, 5))"
   ]
  },
  {
   "cell_type": "code",
   "execution_count": null,
   "id": "aa2d888a-d615-4e2d-a844-d8155fd8704b",
   "metadata": {},
   "outputs": [],
   "source": [
    "# Calculate the mean and the standard deviation:\n",
    "mean = np.mean(flights.column('Delay'))\n",
    "std = np.std(flights.column('Delay'))\n",
    "\n",
    "print('Average delay: ', mean)\n",
    "print('Standard dev:  ', std)"
   ]
  },
  {
   "cell_type": "code",
   "execution_count": null,
   "id": "6c08b658-05a4-4dca-80fe-da3c1cb92826",
   "metadata": {},
   "outputs": [],
   "source": [
    "# For a few standard deviations: display how many\n",
    "# flights are within that many standard deviations\n",
    "# of the mean.\n",
    "\n",
    "for z in range(1, 6):\n",
    "    fraction = flights.where('Delay', are.below(mean + z * std)).num_rows / flights.num_rows\n",
    "    print(f'Percentage within {z} SDs of the mean: {100*fraction:.2f}%')"
   ]
  },
  {
   "cell_type": "markdown",
   "id": "9077d7d7-5dff-4524-9132-2a7078da0b1f",
   "metadata": {},
   "source": [
    "## Part 3: Another distribution! ##"
   ]
  },
  {
   "cell_type": "code",
   "execution_count": null,
   "id": "2ed2ce0e-0388-48c7-8b3d-205c88786e6c",
   "metadata": {},
   "outputs": [],
   "source": [
    "weather = Table.read_table('merced_weather_2024_september.csv')\n",
    "weather"
   ]
  },
  {
   "cell_type": "code",
   "execution_count": null,
   "id": "889a0dcd-e9cc-47bc-89fe-baeb8cbed532",
   "metadata": {},
   "outputs": [],
   "source": [
    "weather.hist('Maximum Temperature')"
   ]
  },
  {
   "cell_type": "code",
   "execution_count": null,
   "id": "34253a72-f958-4f6a-9fd1-7cc49c3d487b",
   "metadata": {},
   "outputs": [],
   "source": [
    "# Calculate the mean and standard deviation\n",
    "mean = np.mean(weather.column('Maximum Temperature'))\n",
    "std = np.std(weather.column('Maximum Temperature'))\n",
    "\n",
    "print('Mean: ', mean)\n",
    "print('SD:   ', std)"
   ]
  },
  {
   "cell_type": "code",
   "execution_count": null,
   "id": "b431742b-43e5-4b05-aa1a-0d2f429a9dbe",
   "metadata": {},
   "outputs": [],
   "source": [
    "# Count the number of days within a certain number of SDs of the mean:\n",
    "\n",
    "for z in range(1, 6):\n",
    "    day_count = weather.where('Maximum Temperature', \n",
    "        are.below(mean + z*std)).where('Maximum Temperature',\n",
    "        are.above(mean - z*std)).num_rows\n",
    "    print(f'Percentage within {z} SDs: {100*day_count / 30:.2f}%')"
   ]
  },
  {
   "cell_type": "code",
   "execution_count": null,
   "id": "3536cde5-bf1e-4c78-98b3-c685ec3f7164",
   "metadata": {},
   "outputs": [],
   "source": [
    "# Make a fancy drawing with one standard deviation:\n",
    "\n",
    "weather.hist('Maximum Temperature')\n",
    "plots.scatter(mean, .005, s=200, c='r')\n",
    "plots.plot([mean-std, mean + std], [0.005, 0.005], \n",
    "           color='yellow', lw=5)\n",
    "plots.plot([mean-2*std, mean + 2*std], [0.005, 0.005], \n",
    "           color='yellow', lw=2)"
   ]
  }
 ],
 "metadata": {
  "kernelspec": {
   "display_name": "Python 3 (ipykernel)",
   "language": "python",
   "name": "python3"
  },
  "language_info": {
   "codemirror_mode": {
    "name": "ipython",
    "version": 3
   },
   "file_extension": ".py",
   "mimetype": "text/x-python",
   "name": "python",
   "nbconvert_exporter": "python",
   "pygments_lexer": "ipython3",
   "version": "3.11.9"
  }
 },
 "nbformat": 4,
 "nbformat_minor": 5
}
