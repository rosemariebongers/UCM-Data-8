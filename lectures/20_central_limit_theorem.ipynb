{
 "cells": [
  {
   "cell_type": "code",
   "execution_count": null,
   "id": "cell-lec26-0",
   "metadata": {},
   "outputs": [],
   "source": [
    "import matplotlib\n",
    "from datascience import *\n",
    "%matplotlib inline\n",
    "import matplotlib.pyplot as plots\n",
    "import numpy as np\n",
    "plots.style.use('fivethirtyeight')"
   ]
  },
  {
   "attachments": {},
   "cell_type": "markdown",
   "id": "cell-lec26-6",
   "metadata": {
    "collapsed": true,
    "jupyter": {
     "outputs_hidden": true
    }
   },
   "source": [
    "## Visualizing sample means ##"
   ]
  },
  {
   "cell_type": "code",
   "execution_count": null,
   "id": "cell-lec26-7",
   "metadata": {},
   "outputs": [],
   "source": [
    "united = Table.read_table('united.csv')\n",
    "united_bins = np.arange(-20, 300, 10)\n",
    "united"
   ]
  },
  {
   "cell_type": "code",
   "execution_count": null,
   "id": "cell-lec26-8",
   "metadata": {},
   "outputs": [],
   "source": [
    "united.hist('Delay', bins=united_bins)"
   ]
  },
  {
   "cell_type": "code",
   "execution_count": null,
   "id": "cell-lec26-9",
   "metadata": {},
   "outputs": [],
   "source": [
    "delays = united.column('Delay')\n",
    "delay_mean = np.mean(delays)\n",
    "delay_sd = np.std(delays)\n",
    "delay_mean, delay_sd"
   ]
  },
  {
   "cell_type": "code",
   "execution_count": null,
   "id": "cell-lec26-10",
   "metadata": {},
   "outputs": [],
   "source": [
    "percentile(50, delays)"
   ]
  },
  {
   "cell_type": "code",
   "execution_count": null,
   "id": "cell-lec26-11",
   "metadata": {},
   "outputs": [],
   "source": [
    "def one_sample_mean(sample_size):\n",
    "    \"\"\" \n",
    "    Takes a sample from the population of flights \n",
    "    and computes its mean\n",
    "    \"\"\"\n",
    "    sampled_flights = united.sample(sample_size)\n",
    "    return np.mean(sampled_flights.column('Delay'))"
   ]
  },
  {
   "cell_type": "code",
   "execution_count": null,
   "id": "cell-lec26-12",
   "metadata": {},
   "outputs": [],
   "source": [
    "one_sample_mean(100)"
   ]
  },
  {
   "cell_type": "code",
   "execution_count": null,
   "id": "cell-lec26-13",
   "metadata": {},
   "outputs": [],
   "source": [
    "def ten_thousand_sample_means(sample_size):\n",
    "    means = make_array()\n",
    "    for i in np.arange(10000):\n",
    "        mean = one_sample_mean(sample_size)\n",
    "        means = np.append(means, mean)\n",
    "    return means"
   ]
  },
  {
   "cell_type": "code",
   "execution_count": null,
   "id": "cell-lec26-14",
   "metadata": {},
   "outputs": [],
   "source": [
    "sample_means_100 = ten_thousand_sample_means(100)"
   ]
  },
  {
   "cell_type": "code",
   "execution_count": null,
   "id": "cell-lec26-15",
   "metadata": {},
   "outputs": [],
   "source": [
    "sample_means_100"
   ]
  },
  {
   "cell_type": "code",
   "execution_count": null,
   "id": "cell-lec26-16",
   "metadata": {},
   "outputs": [],
   "source": [
    "len(sample_means_100)"
   ]
  },
  {
   "cell_type": "code",
   "execution_count": null,
   "id": "cell-lec26-17",
   "metadata": {},
   "outputs": [],
   "source": [
    "Table().with_column(\n",
    "    'Mean of 100 flight delays', sample_means_100).hist(bins=20)\n",
    "\n",
    "print('Population Average:', delay_mean)"
   ]
  },
  {
   "cell_type": "code",
   "execution_count": null,
   "id": "cell-lec26-18",
   "metadata": {},
   "outputs": [],
   "source": [
    "sample_means_400 = ten_thousand_sample_means(400)\n",
    "Table().with_column(\n",
    "    'Mean of 400 flight delays', sample_means_400).hist(bins=20)\n",
    "\n",
    "print('Population Average:', delay_mean)"
   ]
  },
  {
   "cell_type": "markdown",
   "id": "4823d88a-775f-44c2-ab20-3cc5e85e928f",
   "metadata": {},
   "source": [
    "## Variation of the sample means ##"
   ]
  },
  {
   "cell_type": "code",
   "execution_count": null,
   "id": "d35a943f-ff1e-4fcd-94ef-3a135fc24e71",
   "metadata": {},
   "outputs": [],
   "source": [
    "sample_means_400 = ten_thousand_sample_means(400)\n",
    "Table().with_column('Mean of 400 flight delays', sample_means_400).hist(bins=20)"
   ]
  },
  {
   "cell_type": "code",
   "execution_count": null,
   "id": "f6701e08-0569-43ef-8c87-322bd4ff61f2",
   "metadata": {},
   "outputs": [],
   "source": [
    "united.num_rows"
   ]
  },
  {
   "cell_type": "code",
   "execution_count": null,
   "id": "6d24374a-71e0-46d1-9b01-4d18b47988fa",
   "metadata": {},
   "outputs": [],
   "source": [
    "# How many possible sample means are there?\n",
    "united.num_rows ** 400"
   ]
  },
  {
   "cell_type": "code",
   "execution_count": null,
   "id": "9dc486e0-5442-4fee-8065-dfff4dd86051",
   "metadata": {},
   "outputs": [],
   "source": [
    "sample_means_900 = ten_thousand_sample_means(900)"
   ]
  },
  {
   "cell_type": "code",
   "execution_count": null,
   "id": "69182876-d31a-4c6a-8201-44530c639ce1",
   "metadata": {},
   "outputs": [],
   "source": [
    "means_tbl = Table().with_columns(\n",
    "    '400', sample_means_400,\n",
    "    '900', sample_means_900,\n",
    ")"
   ]
  },
  {
   "cell_type": "code",
   "execution_count": null,
   "id": "395bd718-9509-44c7-b759-f70bb9ca7697",
   "metadata": {},
   "outputs": [],
   "source": [
    "means_tbl.hist(bins = np.arange(5, 31, 0.5))\n",
    "plots.title('Distribution of Sample Average');"
   ]
  },
  {
   "cell_type": "markdown",
   "id": "e41a691e-8cf6-4b97-bf17-14fe0466bada",
   "metadata": {},
   "source": [
    "## Quantifying the variation ##"
   ]
  },
  {
   "cell_type": "code",
   "execution_count": null,
   "id": "6835117f-f760-4992-ac1b-faa6fd837006",
   "metadata": {},
   "outputs": [],
   "source": [
    "\"\"\"Empirical distribution of random sample means\"\"\"\n",
    "\n",
    "def plot_and_summarize_sample_means(sample_size):\n",
    "    sample_means = ten_thousand_sample_means(sample_size)\n",
    "    sample_means_tbl = Table().with_column('Sample Means', sample_means)\n",
    "    \n",
    "    # Print some information about the distribution of the sample means\n",
    "    print(\"Sample size: \", sample_size)\n",
    "    print(\"Population mean:\", delay_mean)\n",
    "    print(\"Average of sample means: \", np.mean(sample_means))\n",
    "    print(\"\\nPopulation SD:\", delay_sd)\n",
    "    print(\"SD of sample means:\", np.std(sample_means))\n",
    "    print(\"Ratio:\", delay_sd / np.std(sample_means))\n",
    "\n",
    "    # Plot a histogram of the sample means\n",
    "    sample_means_tbl.hist(bins=20)\n",
    "    plots.xlabel('Sample Means')\n",
    "    plots.title('Sample Size ' + str(sample_size))"
   ]
  },
  {
   "cell_type": "code",
   "execution_count": null,
   "id": "89523dad-eb72-4374-9c71-96691ad31f93",
   "metadata": {},
   "outputs": [],
   "source": [
    "plot_and_summarize_sample_means(100)"
   ]
  },
  {
   "cell_type": "code",
   "execution_count": null,
   "id": "70fd5fca-b3b9-490d-a9f3-d5f5fdfe1037",
   "metadata": {},
   "outputs": [],
   "source": [
    "plot_and_summarize_sample_means(400)"
   ]
  },
  {
   "cell_type": "code",
   "execution_count": null,
   "id": "90f36624-d77e-4e1d-a68a-1c69b2ec38b1",
   "metadata": {},
   "outputs": [],
   "source": [
    "plot_and_summarize_sample_means(900)"
   ]
  }
 ],
 "metadata": {
  "anaconda-cloud": {},
  "kernelspec": {
   "display_name": "Python 3 (ipykernel)",
   "language": "python",
   "name": "python3"
  },
  "language_info": {
   "codemirror_mode": {
    "name": "ipython",
    "version": 3
   },
   "file_extension": ".py",
   "mimetype": "text/x-python",
   "name": "python",
   "nbconvert_exporter": "python",
   "pygments_lexer": "ipython3",
   "version": "3.11.9"
  }
 },
 "nbformat": 4,
 "nbformat_minor": 5
}
