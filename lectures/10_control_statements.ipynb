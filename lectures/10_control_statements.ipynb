{
 "cells": [
  {
   "cell_type": "code",
   "execution_count": null,
   "id": "cell-lec14-0",
   "metadata": {},
   "outputs": [],
   "source": [
    "from datascience import *\n",
    "%matplotlib inline\n",
    "path_data = '../../../assets/data/'\n",
    "import matplotlib.pyplot as plt\n",
    "plt.style.use('fivethirtyeight')\n",
    "import numpy as np\n",
    "import warnings\n",
    "warnings.simplefilter(action='ignore', category=np.VisibleDeprecationWarning)"
   ]
  },
  {
   "attachments": {},
   "cell_type": "markdown",
   "id": "cell-lec14-1",
   "metadata": {},
   "source": [
    "## Appending to arrays"
   ]
  },
  {
   "cell_type": "code",
   "execution_count": null,
   "id": "cell-lec14-6",
   "metadata": {},
   "outputs": [],
   "source": [
    "s = make_array(2, 3)\n",
    "np.append(s, 4)\n",
    "s"
   ]
  },
  {
   "cell_type": "code",
   "execution_count": null,
   "id": "cell-lec14-7",
   "metadata": {},
   "outputs": [],
   "source": [
    "s + 3\n",
    "s"
   ]
  },
  {
   "cell_type": "code",
   "execution_count": null,
   "id": "cell-lec14-8",
   "metadata": {},
   "outputs": [],
   "source": [
    "s = np.append(s, 4)\n",
    "s"
   ]
  },
  {
   "cell_type": "code",
   "execution_count": null,
   "id": "cell-lec14-9",
   "metadata": {},
   "outputs": [],
   "source": [
    "result = make_array(2, 3, 4)\n",
    "for i in np.arange(5):\n",
    "    result = np.append(result, 10 * i)\n",
    "result"
   ]
  },
  {
   "cell_type": "code",
   "execution_count": null,
   "id": "c1a683a3-87e1-4b79-9afa-3d2096ddef8f",
   "metadata": {},
   "outputs": [],
   "source": [
    "# Challenge question:\n",
    "# Reproduce the array [1, 2, ..., 9, \n",
    "#                      10, 20, 30, ..., 90, \n",
    "#                      100, 200, ..., 900]\n",
    "# using as few lines as possible.\n",
    "\n",
    "result = ..."
   ]
  },
  {
   "attachments": {},
   "cell_type": "markdown",
   "id": "cell-lec14-10",
   "metadata": {
    "collapsed": true,
    "jupyter": {
     "outputs_hidden": true
    }
   },
   "source": [
    "## Simulating heads in 100 coin tosses"
   ]
  },
  {
   "cell_type": "code",
   "execution_count": null,
   "id": "cell-lec14-11",
   "metadata": {},
   "outputs": [],
   "source": [
    "# Set up our coins\n",
    "coin = make_array('heads', 'tails')"
   ]
  },
  {
   "cell_type": "code",
   "execution_count": null,
   "id": "cell-lec14-12",
   "metadata": {},
   "outputs": [],
   "source": [
    "# Do one trial\n",
    "sum(np.random.choice(coin, 100) == 'heads')"
   ]
  },
  {
   "cell_type": "code",
   "execution_count": null,
   "id": "cell-lec14-13",
   "metadata": {},
   "outputs": [],
   "source": [
    "# Simulate one outcome\n",
    "\n",
    "def num_heads(n):\n",
    "    return sum(np.random.choice(coin, n) == 'heads')"
   ]
  },
  {
   "cell_type": "code",
   "execution_count": null,
   "id": "cell-lec14-14",
   "metadata": {},
   "outputs": [],
   "source": [
    "# Decide how many times you want to repeat the experiment\n",
    "repetitions = 30000"
   ]
  },
  {
   "cell_type": "code",
   "execution_count": null,
   "id": "cell-lec14-15",
   "metadata": {},
   "outputs": [],
   "source": [
    "# Simulate that many outcomes\n",
    "\n",
    "outcomes = make_array()\n",
    "\n",
    "for i in np.arange(repetitions):\n",
    "    outcomes = np.append(outcomes, num_heads(100))"
   ]
  },
  {
   "cell_type": "code",
   "execution_count": null,
   "id": "cell-lec14-16",
   "metadata": {},
   "outputs": [],
   "source": [
    "# Make a Table() of the results\n",
    "# and then draw a histogram of it.\n",
    "\n",
    "heads = ...\n",
    "#heads.hist(...)"
   ]
  },
  {
   "cell_type": "markdown",
   "id": "d1725635-62fe-4071-9fea-e553eee45168",
   "metadata": {},
   "source": [
    "<h3> Writing your own simulation </h3>\n",
    "\n",
    "Suppose you throw three six-sided dice and add the results of the throws. What is the most common result? \n",
    "\n",
    "Add your code below!"
   ]
  },
  {
   "cell_type": "code",
   "execution_count": null,
   "id": "76583257-69f4-4885-90aa-31b78820af5e",
   "metadata": {},
   "outputs": [],
   "source": [
    "def throw_three():\n",
    "    ..."
   ]
  }
 ],
 "metadata": {
  "kernelspec": {
   "display_name": "Python 3 (ipykernel)",
   "language": "python",
   "name": "python3"
  },
  "language_info": {
   "codemirror_mode": {
    "name": "ipython",
    "version": 3
   },
   "file_extension": ".py",
   "mimetype": "text/x-python",
   "name": "python",
   "nbconvert_exporter": "python",
   "pygments_lexer": "ipython3",
   "version": "3.11.9"
  }
 },
 "nbformat": 4,
 "nbformat_minor": 5
}
