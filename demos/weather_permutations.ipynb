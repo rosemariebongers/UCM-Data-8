{
 "cells": [
  {
   "cell_type": "code",
   "execution_count": null,
   "id": "199e76d5-38c5-48f6-a2e2-b38c0cf3062e",
   "metadata": {},
   "outputs": [],
   "source": [
    "from datascience import *\n",
    "import numpy as np\n",
    "\n",
    "%matplotlib inline\n",
    "import matplotlib.pyplot as plots\n",
    "plots.style.use('fivethirtyeight')"
   ]
  },
  {
   "cell_type": "markdown",
   "id": "32c3a5a1-1f42-4b58-aa16-77ef650422af",
   "metadata": {},
   "source": [
    "## Part 1: Setting up the data ##"
   ]
  },
  {
   "cell_type": "code",
   "execution_count": null,
   "id": "0d89b646-dbba-4343-9582-7a863ec317e8",
   "metadata": {},
   "outputs": [],
   "source": [
    "# Load the 2024 weather data\n",
    "weather_2024 = Table().read_table('merced_weather_2024_september.csv')\n",
    "weather_2024 = weather_2024.select(['Date', 'Maximum Temperature', 'Minimum Temperature'])\n",
    "weather_2024\n",
    "\n",
    "#weather_2024.hist('Maximum Temperature')"
   ]
  },
  {
   "cell_type": "code",
   "execution_count": null,
   "id": "cce55533-c7fb-4b75-8d32-396b39f4426a",
   "metadata": {},
   "outputs": [],
   "source": [
    "# Load the 2004 weather data\n",
    "weather_2004 = Table().read_table('merced_weather_2004_september.csv')\n",
    "weather_2004 = weather_2004.select(['Date', 'Maximum Temperature', 'Minimum Temperature'])\n",
    "weather_2004\n"
   ]
  },
  {
   "cell_type": "code",
   "execution_count": null,
   "id": "9712d5dd-08b1-4e2b-8de7-f3604bcba2e3",
   "metadata": {},
   "outputs": [],
   "source": [
    "# Combine the sets of weather data into a new table with labels\n",
    "\n",
    "weather_columns = np.append(weather_2024.column('Maximum Temperature'), weather_2004.column('Maximum Temperature'))\n",
    "labels = np.append(30*['new'], 30*['old'])\n",
    "\n",
    "weather_data = Table().with_columns(\n",
    "    'Temperature', weather_columns,\n",
    "    'Label', labels\n",
    ")\n",
    "\n",
    "#weather_data.show()\n",
    "\n",
    "weather_data.hist('Temperature', group = 'Label')"
   ]
  },
  {
   "cell_type": "code",
   "execution_count": null,
   "id": "2028bf32-59a7-44b5-84d5-252615a9e00c",
   "metadata": {},
   "outputs": [],
   "source": [
    "# Compare the averages\n",
    "weather_data.group('Label', np.average)"
   ]
  },
  {
   "cell_type": "code",
   "execution_count": null,
   "id": "ad350cf3-7a98-4a9f-9caf-9b9f42188d69",
   "metadata": {},
   "outputs": [],
   "source": [
    "weather_2004.sort('Maximum Temperature').show()"
   ]
  },
  {
   "cell_type": "markdown",
   "id": "13188f8d-f6de-4231-a141-fc54eef5d7d7",
   "metadata": {},
   "source": [
    "## Part 2: The permutation test ##"
   ]
  },
  {
   "cell_type": "code",
   "execution_count": null,
   "id": "f870a1c2-6b3b-4f87-84f0-926af41d9f57",
   "metadata": {},
   "outputs": [],
   "source": [
    "def difference_of_means(data_table, column):\n",
    "    \"\"\"Takes: name of table and column to group by\n",
    "    Returns: The difference of means between the groups.\"\"\"\n",
    "\n",
    "    means = data_table.group(column, np.average).column(1)\n",
    "    return means.item(0) - means.item(1)"
   ]
  },
  {
   "cell_type": "code",
   "execution_count": null,
   "id": "52ce8190-1ce9-445e-8465-29f23fd55478",
   "metadata": {},
   "outputs": [],
   "source": [
    "difference_of_means(weather_data, 'Label')"
   ]
  },
  {
   "cell_type": "code",
   "execution_count": null,
   "id": "1edbaeb2-bc86-4fa7-898f-feddd28dc57f",
   "metadata": {},
   "outputs": [],
   "source": [
    "# Now let's make a way to shuffle the labels. We do this by drawing\n",
    "# without replacement from the column of all labels:\n",
    "\n",
    "shuffled_labels = weather_data.sample(with_replacement = False).column(1)\n",
    "original_and_shuffled = weather_data.with_column(\n",
    "    'Shuffled Label', shuffled_labels)\n",
    "\n",
    "original_and_shuffled"
   ]
  },
  {
   "cell_type": "code",
   "execution_count": null,
   "id": "efd5c82c-41e8-465b-9561-aa25375c5663",
   "metadata": {},
   "outputs": [],
   "source": [
    "# Now let's just look at the data with shuffled labels only and\n",
    "# compute the temperature deviation:\n",
    "\n",
    "shuffled_only = original_and_shuffled.select('Temperature', 'Shuffled Label')\n",
    "shuffled_only.group('Shuffled Label', np.average).show()\n",
    "\n",
    "difference_of_means(shuffled_only, 'Shuffled Label')"
   ]
  },
  {
   "cell_type": "code",
   "execution_count": null,
   "id": "6a0fb890-d9fd-4cb1-9bb2-c109e9a1d0cb",
   "metadata": {},
   "outputs": [],
   "source": [
    "# Now we're ready to implement the permutation test!\n",
    "\n",
    "differences = make_array()\n",
    "repetitions = 20000\n",
    "\n",
    "for i in np.arange(repetitions):\n",
    "    shuffled_labels = weather_data.sample(with_replacement = False).column(1)\n",
    "    shuffled_data = weather_data.with_column(\n",
    "        'Shuffled Label', shuffled_labels).drop('Label')\n",
    "\n",
    "    new_difference = difference_of_means(shuffled_data, 'Shuffled Label')\n",
    "    differences = np.append(differences, new_difference)"
   ]
  },
  {
   "cell_type": "code",
   "execution_count": null,
   "id": "bbf9136c-383f-4ed2-a11a-765216668955",
   "metadata": {},
   "outputs": [],
   "source": [
    "# Now let's make a histogram. This represents the distribution \n",
    "# UNDER THE NULL HYPOTHESIS that the samples come from the \n",
    "# same underlying distribution.\n",
    "\n",
    "Table().with_column('Difference between group averages', differences).hist(bins=20)\n",
    "observed_difference = difference_of_means(weather_data, 'Label')\n",
    "plots.scatter(observed_difference, .025, c='r', s=100)"
   ]
  },
  {
   "cell_type": "markdown",
   "id": "8cb96f85-afcb-4a6f-a346-2896acd59c7b",
   "metadata": {},
   "source": [
    "## Part 3: Computing the p-Value and computing percentiles ##"
   ]
  },
  {
   "cell_type": "code",
   "execution_count": null,
   "id": "ae6af30a-ab36-46b0-89fa-c1e9dbb3b773",
   "metadata": {},
   "outputs": [],
   "source": [
    "# We need to count how many outcomes were more extreme\n",
    "\n",
    "p_value = sum(differences > observed_difference) / repetitions\n",
    "print('Reported p-value for the difference: ' + str(p_value))"
   ]
  },
  {
   "cell_type": "code",
   "execution_count": null,
   "id": "b30f715c-c6b2-48da-927f-ead560300beb",
   "metadata": {},
   "outputs": [],
   "source": [
    "# Find the 25th percentile of the distribution:\n",
    "print('25th percentile: ' + str(percentile(25, differences)))\n",
    "\n",
    "# Find the 50th percentile of the distribution:\n",
    "print('50th percentile: ' + str(percentile(50, differences)))\n",
    "\n",
    "# Find the 75th percentile\n",
    "print('75th percentile: ' + str(percentile(75, differences)))\n",
    "\n",
    "# Find the 95th percentile\n",
    "print('95th percentile: ' + str(percentile(95, differences)))\n",
    "\n",
    "# Find the 99th percentile\n",
    "print('99th percentile: ' + str(percentile(99, differences)))"
   ]
  }
 ],
 "metadata": {
  "kernelspec": {
   "display_name": "Python 3 (ipykernel)",
   "language": "python",
   "name": "python3"
  },
  "language_info": {
   "codemirror_mode": {
    "name": "ipython",
    "version": 3
   },
   "file_extension": ".py",
   "mimetype": "text/x-python",
   "name": "python",
   "nbconvert_exporter": "python",
   "pygments_lexer": "ipython3",
   "version": "3.11.9"
  }
 },
 "nbformat": 4,
 "nbformat_minor": 5
}
