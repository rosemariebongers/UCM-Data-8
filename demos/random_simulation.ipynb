{
 "cells": [
  {
   "cell_type": "code",
   "execution_count": 1,
   "id": "cell-lec14-0",
   "metadata": {},
   "outputs": [],
   "source": [
    "from datascience import *\n",
    "%matplotlib inline\n",
    "path_data = '../../../assets/data/'\n",
    "import matplotlib.pyplot as plt\n",
    "plt.style.use('fivethirtyeight')\n",
    "import numpy as np\n",
    "import warnings\n",
    "warnings.simplefilter(action='ignore', category=np.VisibleDeprecationWarning)"
   ]
  },
  {
   "attachments": {},
   "cell_type": "markdown",
   "id": "cell-lec14-30",
   "metadata": {},
   "source": [
    "### Chance of At Least One Success in Independently Repeated Success/Failure Trials ###"
   ]
  },
  {
   "cell_type": "code",
   "execution_count": 1,
   "id": "cell-lec14-31",
   "metadata": {},
   "outputs": [],
   "source": [
    "# Chance of no sixes in 4 rolls of a die\n",
    "\n"
   ]
  },
  {
   "cell_type": "code",
   "execution_count": 2,
   "id": "efb2f9f7-e1e4-448f-906b-3955d0b96ebe",
   "metadata": {},
   "outputs": [],
   "source": [
    "# Mathematical analysis\n"
   ]
  }
 ],
 "metadata": {
  "kernelspec": {
   "display_name": "Python 3 (ipykernel)",
   "language": "python",
   "name": "python3"
  },
  "language_info": {
   "codemirror_mode": {
    "name": "ipython",
    "version": 3
   },
   "file_extension": ".py",
   "mimetype": "text/x-python",
   "name": "python",
   "nbconvert_exporter": "python",
   "pygments_lexer": "ipython3",
   "version": "3.11.9"
  }
 },
 "nbformat": 4,
 "nbformat_minor": 5
}
