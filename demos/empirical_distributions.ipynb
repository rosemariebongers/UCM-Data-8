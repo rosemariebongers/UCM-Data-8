{
 "cells": [
  {
   "cell_type": "code",
   "execution_count": null,
   "id": "5980d522-1ba5-4410-8c00-b6cbdfbe3096",
   "metadata": {},
   "outputs": [],
   "source": [
    "from datascience import *\n",
    "import numpy as np\n",
    "\n",
    "%matplotlib inline\n",
    "import matplotlib.pyplot as plots\n",
    "plots.style.use('fivethirtyeight')\n",
    "import warnings\n",
    "warnings.simplefilter(action='ignore',category=np.VisibleDeprecationWarning)"
   ]
  },
  {
   "cell_type": "markdown",
   "id": "a2d6f1da-cd0d-4bc1-8d68-2905efc16afd",
   "metadata": {},
   "source": [
    "## Part 1: Flight data: different sampling regimes ##"
   ]
  },
  {
   "cell_type": "code",
   "execution_count": null,
   "id": "2c99ae1e-598e-4683-9dd4-8787ef0cb9dc",
   "metadata": {},
   "outputs": [],
   "source": [
    "united = Table.read_table('united.csv')\n",
    "united = united.with_column('Row', np.arange(united.num_rows)).move_to_start('Row')\n",
    "united"
   ]
  },
  {
   "cell_type": "code",
   "execution_count": null,
   "id": "79275ed8-06d3-42cd-9940-3f4e9a21eaac",
   "metadata": {},
   "outputs": [],
   "source": [
    "# A deterministic sample\n",
    "united.where('Destination', 'HNL')"
   ]
  },
  {
   "cell_type": "code",
   "execution_count": null,
   "id": "284a2c66-590d-4867-a8a5-5dc1abbd8c8a",
   "metadata": {},
   "outputs": [],
   "source": [
    "# Another deterministic sample:\n",
    "united.take(np.arange(42, united.num_rows, 100))"
   ]
  },
  {
   "cell_type": "code",
   "execution_count": null,
   "id": "fc53e9d9-2c63-4218-8e21-a45b4d89b3f0",
   "metadata": {},
   "outputs": [],
   "source": [
    "# A third deterministic sample:\n",
    "united.take(make_array(15, 30, 35))"
   ]
  },
  {
   "cell_type": "code",
   "execution_count": null,
   "id": "bfbf35e5-37d7-4d4f-90af-03f8cd8a377e",
   "metadata": {},
   "outputs": [],
   "source": [
    "# A random sample: unpack what this code does!\n",
    "start = np.random.choice(np.arange(100))\n",
    "systematic_sample = united.take(np.arange(start, united.num_rows, 100))\n",
    "systematic_sample"
   ]
  },
  {
   "cell_type": "markdown",
   "id": "08c93a16-4b2b-4908-97b4-b4c63def5c1e",
   "metadata": {},
   "source": [
    "## Part 2: Empirical distribution for rolling a die ##"
   ]
  },
  {
   "cell_type": "code",
   "execution_count": null,
   "id": "be3bddf3-416a-4140-aad9-9257d43c4447",
   "metadata": {},
   "outputs": [],
   "source": [
    "# Set up rolling a die\n",
    "die = Table().with_columns('Face', np.arange(1, 7))\n",
    "die"
   ]
  },
  {
   "cell_type": "code",
   "execution_count": null,
   "id": "e1d76da3-a8df-470c-8687-23d1e5ac4184",
   "metadata": {},
   "outputs": [],
   "source": [
    "# Get a random sample from this\n",
    "die.sample(10)"
   ]
  },
  {
   "cell_type": "code",
   "execution_count": null,
   "id": "e5ad1079-e507-44d0-a8cf-e1061c6eee15",
   "metadata": {},
   "outputs": [],
   "source": [
    "# Draw a histogram\n",
    "die.hist()"
   ]
  },
  {
   "cell_type": "code",
   "execution_count": null,
   "id": "3dc24ef0-1c7e-408f-9827-bc34a2ccda54",
   "metadata": {},
   "outputs": [],
   "source": [
    "# Ugh that's not very pretty; let's be careful about the bins\n",
    "roll_bins = np.arange(0.5, 6.6, 1)\n",
    "die.hist(bins=roll_bins)"
   ]
  },
  {
   "cell_type": "code",
   "execution_count": null,
   "id": "828dd3af-4297-4da0-9c7e-e6cdfcf726e8",
   "metadata": {},
   "outputs": [],
   "source": [
    "# Now let's see what happens if we introduce randomness into this:\n",
    "\n",
    "die.sample(10).hist(bins=roll_bins)"
   ]
  },
  {
   "cell_type": "code",
   "execution_count": null,
   "id": "cf93c46c-a005-4f47-b1b7-e96ec40ef702",
   "metadata": {},
   "outputs": [],
   "source": [
    "# Let's take a bigger sample:\n",
    "\n",
    "die.sample(100).hist(bins=roll_bins)"
   ]
  },
  {
   "cell_type": "code",
   "execution_count": null,
   "id": "5da90778-f834-4af3-a49b-ddd9a55ed805",
   "metadata": {},
   "outputs": [],
   "source": [
    "# Let's do an even bigger one:\n",
    "\n",
    "die.sample(10000).hist(bins=roll_bins)"
   ]
  },
  {
   "cell_type": "markdown",
   "id": "e3a15bd3-6f03-4670-97cd-cdd17adc2b37",
   "metadata": {},
   "source": [
    "## Part 3: Back to the flight data ##"
   ]
  },
  {
   "cell_type": "code",
   "execution_count": null,
   "id": "aed82942-2e10-403b-b1b4-bff149978ff6",
   "metadata": {},
   "outputs": [],
   "source": [
    "united.hist('Delay', bins = np.arange(-20, 201, 10), unit = 'minute')"
   ]
  },
  {
   "cell_type": "code",
   "execution_count": null,
   "id": "c7fd1c2b-02f5-4e0c-baa9-74a0eede904a",
   "metadata": {},
   "outputs": [],
   "source": [
    "systematic_sample.hist('Delay', bins = np.arange(-20, 201, 10), unit = 'minute')"
   ]
  },
  {
   "cell_type": "code",
   "execution_count": null,
   "id": "2bf0f55d-faa8-4271-a46b-3f597f9b91d1",
   "metadata": {},
   "outputs": [],
   "source": [
    "# Now a different random sample: choose 500 flights at random\n",
    "sample_size = 500\n",
    "united.sample(sample_size).hist('Delay', bins = np.arange(-20, 201, 10), unit = 'minute')"
   ]
  },
  {
   "cell_type": "code",
   "execution_count": null,
   "id": "44a579e2-7d02-40f1-b53b-a3bd33cedf6a",
   "metadata": {},
   "outputs": [],
   "source": [
    "# Now introduce a STATISTIC\n",
    "delay = np.average(united.column('Delay'))\n",
    "\n",
    "sample = united.sample(sample_size)\n",
    "sample_delay = np.average(sample.column('Delay'))\n",
    "\n",
    "print('Average delay', delay)\n",
    "print('Sample average', sample_delay)"
   ]
  },
  {
   "cell_type": "code",
   "execution_count": null,
   "id": "327c0ce5-e3b2-4d41-8853-961ca7d06859",
   "metadata": {},
   "outputs": [],
   "source": [
    "# Let's generate a bunch of sample averages instead:\n",
    "\n",
    "def random_sample_average():\n",
    "    return np.average(united.sample(500).column('Delay'))\n",
    "\n",
    "sample_averages = make_array()\n",
    "\n",
    "for _ in np.arange(1000):\n",
    "    sample_averages = np.append(sample_averages, random_sample_average())"
   ]
  },
  {
   "cell_type": "code",
   "execution_count": null,
   "id": "d98788f2-b018-4ab9-b2b9-5335a293f33e",
   "metadata": {},
   "outputs": [],
   "source": [
    "# Now make a table of the data!\n",
    "sample_average_table = Table().with_columns('Sample average', sample_averages)\n",
    "sample_average_table"
   ]
  },
  {
   "cell_type": "code",
   "execution_count": null,
   "id": "e3e8f1b6-b8a4-4eec-aaaf-a310425755de",
   "metadata": {},
   "outputs": [],
   "source": [
    "# Now let's look at the distribution of the sample averages\n",
    "\n",
    "sample_average_table.hist()\n",
    "plots.scatter(delay, 0.10, color='red', s=300)"
   ]
  }
 ],
 "metadata": {
  "kernelspec": {
   "display_name": "Python 3 (ipykernel)",
   "language": "python",
   "name": "python3"
  },
  "language_info": {
   "codemirror_mode": {
    "name": "ipython",
    "version": 3
   },
   "file_extension": ".py",
   "mimetype": "text/x-python",
   "name": "python",
   "nbconvert_exporter": "python",
   "pygments_lexer": "ipython3",
   "version": "3.11.9"
  }
 },
 "nbformat": 4,
 "nbformat_minor": 5
}
