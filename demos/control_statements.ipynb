{
 "cells": [
  {
   "cell_type": "markdown",
   "id": "b226a437-9001-42b9-aaef-1ad49f18a655",
   "metadata": {},
   "source": [
    "<h3> Demo: Using control statements </h3>\n",
    "\n",
    "Write a function that takes a user's age and tells them if they can drink coffee, vote, drink wine, or rent a car."
   ]
  },
  {
   "cell_type": "code",
   "execution_count": 2,
   "id": "67ae3253-0c33-4f5b-98d5-01d2845ba9d3",
   "metadata": {},
   "outputs": [],
   "source": [
    "def report_age(age):\n",
    "    ..."
   ]
  },
  {
   "cell_type": "markdown",
   "id": "9655c416-8f4a-41a5-a2fa-8bfe8da1c687",
   "metadata": {},
   "source": [
    "<h3> Demo: For loops </h3>\n",
    "\n",
    "We'll get a list of favorite animals and then print \"I love [animal]\" for each of them."
   ]
  },
  {
   "cell_type": "code",
   "execution_count": 74,
   "id": "41a52d69-e76f-4db9-8c19-a9b1d5a770cc",
   "metadata": {},
   "outputs": [],
   "source": [
    "animals = ..."
   ]
  },
  {
   "cell_type": "markdown",
   "id": "bc378722-d257-4899-b13e-66589e2ab0cf",
   "metadata": {},
   "source": [
    "<h3>Demo: Flipping a coin many times</h3>\n",
    "\n",
    "Write a function which flips a coin 100 times and reports how many of the results were \"heads.\""
   ]
  },
  {
   "cell_type": "code",
   "execution_count": 73,
   "id": "fe8243bd-0cdc-4585-bc49-05344e94c77b",
   "metadata": {},
   "outputs": [
    {
     "name": "stdout",
     "output_type": "stream",
     "text": [
      "0 51\n",
      "1 53\n",
      "2 49\n",
      "3 64\n",
      "4 51\n",
      "5 45\n",
      "6 47\n",
      "7 55\n",
      "8 53\n",
      "9 58\n",
      "10 49\n",
      "11 55\n",
      "12 43\n",
      "13 53\n",
      "14 55\n",
      "15 51\n",
      "16 43\n",
      "17 43\n",
      "18 46\n",
      "19 63\n",
      "20 43\n",
      "21 55\n",
      "22 44\n",
      "23 46\n",
      "24 34\n",
      "25 54\n",
      "26 51\n",
      "27 53\n",
      "28 47\n",
      "29 50 *\n",
      "30 41\n",
      "31 52\n",
      "32 43\n",
      "33 54\n",
      "34 49\n",
      "35 46\n",
      "36 53\n",
      "37 53\n",
      "38 43\n",
      "39 46\n",
      "40 53\n",
      "41 48\n",
      "42 43\n",
      "43 51\n",
      "44 55\n",
      "45 44\n",
      "46 35\n",
      "47 40\n",
      "48 47\n",
      "49 55\n",
      "50 48\n",
      "51 54\n",
      "52 46\n",
      "53 51\n",
      "54 47\n",
      "55 50 *\n",
      "56 54\n",
      "57 49\n",
      "58 47\n",
      "59 65\n",
      "60 46\n",
      "61 46\n",
      "62 54\n",
      "63 51\n",
      "64 49\n",
      "65 50 *\n",
      "66 48\n",
      "67 43\n",
      "68 48\n",
      "69 51\n",
      "70 53\n",
      "71 48\n",
      "72 51\n",
      "73 66\n",
      "74 46\n",
      "75 51\n",
      "76 46\n",
      "77 47\n",
      "78 47\n",
      "79 49\n",
      "80 45\n",
      "81 52\n",
      "82 52\n",
      "83 54\n",
      "84 51\n",
      "85 39\n",
      "86 53\n",
      "87 44\n",
      "88 57\n",
      "89 45\n",
      "90 57\n",
      "91 52\n",
      "92 54\n",
      "93 54\n",
      "94 55\n",
      "95 51\n",
      "96 57\n",
      "97 48\n",
      "98 43\n",
      "99 46\n"
     ]
    }
   ],
   "source": [
    "import numpy as np\n",
    "\n",
    "def flip_100():\n",
    "    flips = np.random.choice(['Heads', 'Tails'], 100)\n",
    "    return sum(flips == 'Heads')\n",
    "\n",
    "for round in np.arange(0, 100):\n",
    "    result = flip_100()\n",
    "    if result == 50:\n",
    "        print(round, result, '*')\n",
    "    else:\n",
    "        print(round, result)"
   ]
  }
 ],
 "metadata": {
  "kernelspec": {
   "display_name": "Python 3 (ipykernel)",
   "language": "python",
   "name": "python3"
  },
  "language_info": {
   "codemirror_mode": {
    "name": "ipython",
    "version": 3
   },
   "file_extension": ".py",
   "mimetype": "text/x-python",
   "name": "python",
   "nbconvert_exporter": "python",
   "pygments_lexer": "ipython3",
   "version": "3.11.9"
  }
 },
 "nbformat": 4,
 "nbformat_minor": 5
}
